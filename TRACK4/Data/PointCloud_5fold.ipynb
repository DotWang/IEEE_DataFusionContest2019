{
 "cells": [
  {
   "cell_type": "code",
   "execution_count": 1,
   "metadata": {
    "collapsed": true
   },
   "outputs": [],
   "source": [
    "import numpy as np"
   ]
  },
  {
   "cell_type": "code",
   "execution_count": 5,
   "metadata": {
    "collapsed": false
   },
   "outputs": [],
   "source": [
    "X=np.random.rand(110,3)"
   ]
  },
  {
   "cell_type": "code",
   "execution_count": 8,
   "metadata": {
    "collapsed": false
   },
   "outputs": [
    {
     "data": {
      "text/plain": [
       "(110,)"
      ]
     },
     "execution_count": 8,
     "metadata": {},
     "output_type": "execute_result"
    }
   ],
   "source": [
    "Y=np.ones([110,])\n",
    "Y.shape"
   ]
  },
  {
   "cell_type": "code",
   "execution_count": 9,
   "metadata": {
    "collapsed": false
   },
   "outputs": [
    {
     "data": {
      "text/plain": [
       "5"
      ]
     },
     "execution_count": 9,
     "metadata": {},
     "output_type": "execute_result"
    }
   ],
   "source": [
    "from sklearn.model_selection import StratifiedKFold\n",
    "\n",
    "skf = StratifiedKFold(n_splits=5,random_state=2019,shuffle=True)\n",
    "skf.get_n_splits(X,Y)"
   ]
  },
  {
   "cell_type": "code",
   "execution_count": 10,
   "metadata": {
    "collapsed": true
   },
   "outputs": [],
   "source": [
    "folds_indexes=skf.split(X, Y)\n",
    "folds_indexes = np.array(list(folds_indexes))"
   ]
  },
  {
   "cell_type": "code",
   "execution_count": 11,
   "metadata": {
    "collapsed": false
   },
   "outputs": [
    {
     "data": {
      "text/plain": [
       "array([array([  2,   3,   5,   7,   8,   9,  10,  11,  12,  14,  15,  16,  17,\n",
       "        20,  21,  22,  23,  24,  25,  26,  27,  28,  29,  30,  31,  32,\n",
       "        33,  34,  35,  37,  40,  41,  42,  45,  46,  47,  48,  49,  50,\n",
       "        51,  52,  53,  54,  55,  57,  58,  59,  61,  62,  63,  65,  66,\n",
       "        68,  69,  70,  71,  72,  74,  75,  76,  77,  78,  79,  80,  81,\n",
       "        82,  83,  87,  88,  89,  90,  91,  92,  94,  96,  97,  98,  99,\n",
       "       100, 101, 102, 103, 104, 105, 106, 107, 108, 109]),\n",
       "       array([ 0,  1,  4,  6, 13, 18, 19, 36, 38, 39, 43, 44, 56, 60, 64, 67, 73,\n",
       "       84, 85, 86, 93, 95])], dtype=object)"
      ]
     },
     "execution_count": 11,
     "metadata": {},
     "output_type": "execute_result"
    }
   ],
   "source": [
    "folds_indexes[0]"
   ]
  },
  {
   "cell_type": "code",
   "execution_count": 12,
   "metadata": {
    "collapsed": false
   },
   "outputs": [
    {
     "name": "stdout",
     "output_type": "stream",
     "text": [
      "88\n",
      "22\n"
     ]
    }
   ],
   "source": [
    "print(len(folds_indexes[0][0]))\n",
    "print(len(folds_indexes[0][1]))"
   ]
  },
  {
   "cell_type": "code",
   "execution_count": 13,
   "metadata": {
    "collapsed": true
   },
   "outputs": [],
   "source": [
    "np.save('/data/DW/DataFusion/dfc2019-master/track4/pointnet2/dfc/trn_val_folds.npy',folds_indexes)"
   ]
  },
  {
   "cell_type": "code",
   "execution_count": 14,
   "metadata": {
    "collapsed": true
   },
   "outputs": [],
   "source": [
    "fold_idx = np.load('/data/DW/DataFusion/dfc2019-master/track4/pointnet2/dfc/trn_val_folds.npy')"
   ]
  },
  {
   "cell_type": "code",
   "execution_count": 15,
   "metadata": {
    "collapsed": false
   },
   "outputs": [
    {
     "data": {
      "text/plain": [
       "array([ 0,  1,  4,  6, 13, 18, 19, 36, 38, 39, 43, 44, 56, 60, 64, 67, 73,\n",
       "       84, 85, 86, 93, 95])"
      ]
     },
     "execution_count": 15,
     "metadata": {},
     "output_type": "execute_result"
    }
   ],
   "source": [
    "fold_idx[0][1]"
   ]
  },
  {
   "cell_type": "code",
   "execution_count": 27,
   "metadata": {
    "collapsed": false
   },
   "outputs": [],
   "source": [
    "import os\n",
    "import glob\n",
    "\n",
    "def get_list_of_files():\n",
    "    \n",
    "    files = glob.glob(os.path.join('/data/Public Data/IEEE Data Fusion Contest 2019/DFC2019_track4_trainval/Train-Track4/',\"*_PC3.txt\"))\n",
    "    return sorted(files)\n",
    "\n",
    "files=get_list_of_files()"
   ]
  },
  {
   "cell_type": "code",
   "execution_count": 28,
   "metadata": {
    "collapsed": false
   },
   "outputs": [
    {
     "name": "stdout",
     "output_type": "stream",
     "text": [
      "['/data/Public Data/IEEE Data Fusion Contest 2019/DFC2019_track4_trainval/Train-Track4/JAX_004_PC3.txt', '/data/Public Data/IEEE Data Fusion Contest 2019/DFC2019_track4_trainval/Train-Track4/JAX_017_PC3.txt', '/data/Public Data/IEEE Data Fusion Contest 2019/DFC2019_track4_trainval/Train-Track4/JAX_018_PC3.txt', '/data/Public Data/IEEE Data Fusion Contest 2019/DFC2019_track4_trainval/Train-Track4/JAX_020_PC3.txt', '/data/Public Data/IEEE Data Fusion Contest 2019/DFC2019_track4_trainval/Train-Track4/JAX_022_PC3.txt', '/data/Public Data/IEEE Data Fusion Contest 2019/DFC2019_track4_trainval/Train-Track4/JAX_028_PC3.txt', '/data/Public Data/IEEE Data Fusion Contest 2019/DFC2019_track4_trainval/Train-Track4/JAX_031_PC3.txt', '/data/Public Data/IEEE Data Fusion Contest 2019/DFC2019_track4_trainval/Train-Track4/JAX_033_PC3.txt', '/data/Public Data/IEEE Data Fusion Contest 2019/DFC2019_track4_trainval/Train-Track4/JAX_068_PC3.txt', '/data/Public Data/IEEE Data Fusion Contest 2019/DFC2019_track4_trainval/Train-Track4/JAX_070_PC3.txt', '/data/Public Data/IEEE Data Fusion Contest 2019/DFC2019_track4_trainval/Train-Track4/JAX_072_PC3.txt', '/data/Public Data/IEEE Data Fusion Contest 2019/DFC2019_track4_trainval/Train-Track4/JAX_079_PC3.txt', '/data/Public Data/IEEE Data Fusion Contest 2019/DFC2019_track4_trainval/Train-Track4/JAX_105_PC3.txt', '/data/Public Data/IEEE Data Fusion Contest 2019/DFC2019_track4_trainval/Train-Track4/JAX_113_PC3.txt', '/data/Public Data/IEEE Data Fusion Contest 2019/DFC2019_track4_trainval/Train-Track4/JAX_117_PC3.txt', '/data/Public Data/IEEE Data Fusion Contest 2019/DFC2019_track4_trainval/Train-Track4/JAX_118_PC3.txt', '/data/Public Data/IEEE Data Fusion Contest 2019/DFC2019_track4_trainval/Train-Track4/JAX_122_PC3.txt', '/data/Public Data/IEEE Data Fusion Contest 2019/DFC2019_track4_trainval/Train-Track4/JAX_144_PC3.txt', '/data/Public Data/IEEE Data Fusion Contest 2019/DFC2019_track4_trainval/Train-Track4/JAX_149_PC3.txt', '/data/Public Data/IEEE Data Fusion Contest 2019/DFC2019_track4_trainval/Train-Track4/JAX_156_PC3.txt', '/data/Public Data/IEEE Data Fusion Contest 2019/DFC2019_track4_trainval/Train-Track4/JAX_159_PC3.txt', '/data/Public Data/IEEE Data Fusion Contest 2019/DFC2019_track4_trainval/Train-Track4/JAX_161_PC3.txt', '/data/Public Data/IEEE Data Fusion Contest 2019/DFC2019_track4_trainval/Train-Track4/JAX_164_PC3.txt', '/data/Public Data/IEEE Data Fusion Contest 2019/DFC2019_track4_trainval/Train-Track4/JAX_165_PC3.txt', '/data/Public Data/IEEE Data Fusion Contest 2019/DFC2019_track4_trainval/Train-Track4/JAX_166_PC3.txt', '/data/Public Data/IEEE Data Fusion Contest 2019/DFC2019_track4_trainval/Train-Track4/JAX_167_PC3.txt', '/data/Public Data/IEEE Data Fusion Contest 2019/DFC2019_track4_trainval/Train-Track4/JAX_168_PC3.txt', '/data/Public Data/IEEE Data Fusion Contest 2019/DFC2019_track4_trainval/Train-Track4/JAX_175_PC3.txt', '/data/Public Data/IEEE Data Fusion Contest 2019/DFC2019_track4_trainval/Train-Track4/JAX_178_PC3.txt', '/data/Public Data/IEEE Data Fusion Contest 2019/DFC2019_track4_trainval/Train-Track4/JAX_179_PC3.txt', '/data/Public Data/IEEE Data Fusion Contest 2019/DFC2019_track4_trainval/Train-Track4/JAX_203_PC3.txt', '/data/Public Data/IEEE Data Fusion Contest 2019/DFC2019_track4_trainval/Train-Track4/JAX_204_PC3.txt', '/data/Public Data/IEEE Data Fusion Contest 2019/DFC2019_track4_trainval/Train-Track4/JAX_207_PC3.txt', '/data/Public Data/IEEE Data Fusion Contest 2019/DFC2019_track4_trainval/Train-Track4/JAX_212_PC3.txt', '/data/Public Data/IEEE Data Fusion Contest 2019/DFC2019_track4_trainval/Train-Track4/JAX_214_PC3.txt', '/data/Public Data/IEEE Data Fusion Contest 2019/DFC2019_track4_trainval/Train-Track4/JAX_224_PC3.txt', '/data/Public Data/IEEE Data Fusion Contest 2019/DFC2019_track4_trainval/Train-Track4/JAX_236_PC3.txt', '/data/Public Data/IEEE Data Fusion Contest 2019/DFC2019_track4_trainval/Train-Track4/JAX_240_PC3.txt', '/data/Public Data/IEEE Data Fusion Contest 2019/DFC2019_track4_trainval/Train-Track4/JAX_251_PC3.txt', '/data/Public Data/IEEE Data Fusion Contest 2019/DFC2019_track4_trainval/Train-Track4/JAX_260_PC3.txt', '/data/Public Data/IEEE Data Fusion Contest 2019/DFC2019_track4_trainval/Train-Track4/JAX_264_PC3.txt', '/data/Public Data/IEEE Data Fusion Contest 2019/DFC2019_track4_trainval/Train-Track4/JAX_269_PC3.txt', '/data/Public Data/IEEE Data Fusion Contest 2019/DFC2019_track4_trainval/Train-Track4/JAX_273_PC3.txt', '/data/Public Data/IEEE Data Fusion Contest 2019/DFC2019_track4_trainval/Train-Track4/JAX_276_PC3.txt', '/data/Public Data/IEEE Data Fusion Contest 2019/DFC2019_track4_trainval/Train-Track4/JAX_280_PC3.txt', '/data/Public Data/IEEE Data Fusion Contest 2019/DFC2019_track4_trainval/Train-Track4/JAX_314_PC3.txt', '/data/Public Data/IEEE Data Fusion Contest 2019/DFC2019_track4_trainval/Train-Track4/JAX_359_PC3.txt', '/data/Public Data/IEEE Data Fusion Contest 2019/DFC2019_track4_trainval/Train-Track4/JAX_412_PC3.txt', '/data/Public Data/IEEE Data Fusion Contest 2019/DFC2019_track4_trainval/Train-Track4/JAX_416_PC3.txt', '/data/Public Data/IEEE Data Fusion Contest 2019/DFC2019_track4_trainval/Train-Track4/JAX_427_PC3.txt', '/data/Public Data/IEEE Data Fusion Contest 2019/DFC2019_track4_trainval/Train-Track4/JAX_467_PC3.txt', '/data/Public Data/IEEE Data Fusion Contest 2019/DFC2019_track4_trainval/Train-Track4/JAX_474_PC3.txt', '/data/Public Data/IEEE Data Fusion Contest 2019/DFC2019_track4_trainval/Train-Track4/JAX_505_PC3.txt', '/data/Public Data/IEEE Data Fusion Contest 2019/DFC2019_track4_trainval/Train-Track4/JAX_559_PC3.txt', '/data/Public Data/IEEE Data Fusion Contest 2019/DFC2019_track4_trainval/Train-Track4/OMA_026_PC3.txt', '/data/Public Data/IEEE Data Fusion Contest 2019/DFC2019_track4_trainval/Train-Track4/OMA_042_PC3.txt', '/data/Public Data/IEEE Data Fusion Contest 2019/DFC2019_track4_trainval/Train-Track4/OMA_059_PC3.txt', '/data/Public Data/IEEE Data Fusion Contest 2019/DFC2019_track4_trainval/Train-Track4/OMA_064_PC3.txt', '/data/Public Data/IEEE Data Fusion Contest 2019/DFC2019_track4_trainval/Train-Track4/OMA_070_PC3.txt', '/data/Public Data/IEEE Data Fusion Contest 2019/DFC2019_track4_trainval/Train-Track4/OMA_084_PC3.txt', '/data/Public Data/IEEE Data Fusion Contest 2019/DFC2019_track4_trainval/Train-Track4/OMA_108_PC3.txt', '/data/Public Data/IEEE Data Fusion Contest 2019/DFC2019_track4_trainval/Train-Track4/OMA_124_PC3.txt', '/data/Public Data/IEEE Data Fusion Contest 2019/DFC2019_track4_trainval/Train-Track4/OMA_129_PC3.txt', '/data/Public Data/IEEE Data Fusion Contest 2019/DFC2019_track4_trainval/Train-Track4/OMA_130_PC3.txt', '/data/Public Data/IEEE Data Fusion Contest 2019/DFC2019_track4_trainval/Train-Track4/OMA_132_PC3.txt', '/data/Public Data/IEEE Data Fusion Contest 2019/DFC2019_track4_trainval/Train-Track4/OMA_134_PC3.txt', '/data/Public Data/IEEE Data Fusion Contest 2019/DFC2019_track4_trainval/Train-Track4/OMA_142_PC3.txt', '/data/Public Data/IEEE Data Fusion Contest 2019/DFC2019_track4_trainval/Train-Track4/OMA_144_PC3.txt', '/data/Public Data/IEEE Data Fusion Contest 2019/DFC2019_track4_trainval/Train-Track4/OMA_150_PC3.txt', '/data/Public Data/IEEE Data Fusion Contest 2019/DFC2019_track4_trainval/Train-Track4/OMA_151_PC3.txt', '/data/Public Data/IEEE Data Fusion Contest 2019/DFC2019_track4_trainval/Train-Track4/OMA_163_PC3.txt', '/data/Public Data/IEEE Data Fusion Contest 2019/DFC2019_track4_trainval/Train-Track4/OMA_172_PC3.txt', '/data/Public Data/IEEE Data Fusion Contest 2019/DFC2019_track4_trainval/Train-Track4/OMA_176_PC3.txt', '/data/Public Data/IEEE Data Fusion Contest 2019/DFC2019_track4_trainval/Train-Track4/OMA_181_PC3.txt', '/data/Public Data/IEEE Data Fusion Contest 2019/DFC2019_track4_trainval/Train-Track4/OMA_198_PC3.txt', '/data/Public Data/IEEE Data Fusion Contest 2019/DFC2019_track4_trainval/Train-Track4/OMA_203_PC3.txt', '/data/Public Data/IEEE Data Fusion Contest 2019/DFC2019_track4_trainval/Train-Track4/OMA_211_PC3.txt', '/data/Public Data/IEEE Data Fusion Contest 2019/DFC2019_track4_trainval/Train-Track4/OMA_212_PC3.txt', '/data/Public Data/IEEE Data Fusion Contest 2019/DFC2019_track4_trainval/Train-Track4/OMA_221_PC3.txt', '/data/Public Data/IEEE Data Fusion Contest 2019/DFC2019_track4_trainval/Train-Track4/OMA_225_PC3.txt', '/data/Public Data/IEEE Data Fusion Contest 2019/DFC2019_track4_trainval/Train-Track4/OMA_230_PC3.txt', '/data/Public Data/IEEE Data Fusion Contest 2019/DFC2019_track4_trainval/Train-Track4/OMA_244_PC3.txt', '/data/Public Data/IEEE Data Fusion Contest 2019/DFC2019_track4_trainval/Train-Track4/OMA_247_PC3.txt', '/data/Public Data/IEEE Data Fusion Contest 2019/DFC2019_track4_trainval/Train-Track4/OMA_248_PC3.txt', '/data/Public Data/IEEE Data Fusion Contest 2019/DFC2019_track4_trainval/Train-Track4/OMA_251_PC3.txt', '/data/Public Data/IEEE Data Fusion Contest 2019/DFC2019_track4_trainval/Train-Track4/OMA_258_PC3.txt', '/data/Public Data/IEEE Data Fusion Contest 2019/DFC2019_track4_trainval/Train-Track4/OMA_269_PC3.txt', '/data/Public Data/IEEE Data Fusion Contest 2019/DFC2019_track4_trainval/Train-Track4/OMA_276_PC3.txt', '/data/Public Data/IEEE Data Fusion Contest 2019/DFC2019_track4_trainval/Train-Track4/OMA_278_PC3.txt', '/data/Public Data/IEEE Data Fusion Contest 2019/DFC2019_track4_trainval/Train-Track4/OMA_281_PC3.txt', '/data/Public Data/IEEE Data Fusion Contest 2019/DFC2019_track4_trainval/Train-Track4/OMA_287_PC3.txt', '/data/Public Data/IEEE Data Fusion Contest 2019/DFC2019_track4_trainval/Train-Track4/OMA_288_PC3.txt', '/data/Public Data/IEEE Data Fusion Contest 2019/DFC2019_track4_trainval/Train-Track4/OMA_292_PC3.txt', '/data/Public Data/IEEE Data Fusion Contest 2019/DFC2019_track4_trainval/Train-Track4/OMA_315_PC3.txt', '/data/Public Data/IEEE Data Fusion Contest 2019/DFC2019_track4_trainval/Train-Track4/OMA_329_PC3.txt', '/data/Public Data/IEEE Data Fusion Contest 2019/DFC2019_track4_trainval/Train-Track4/OMA_331_PC3.txt', '/data/Public Data/IEEE Data Fusion Contest 2019/DFC2019_track4_trainval/Train-Track4/OMA_332_PC3.txt', '/data/Public Data/IEEE Data Fusion Contest 2019/DFC2019_track4_trainval/Train-Track4/OMA_342_PC3.txt', '/data/Public Data/IEEE Data Fusion Contest 2019/DFC2019_track4_trainval/Train-Track4/OMA_353_PC3.txt', '/data/Public Data/IEEE Data Fusion Contest 2019/DFC2019_track4_trainval/Train-Track4/OMA_355_PC3.txt', '/data/Public Data/IEEE Data Fusion Contest 2019/DFC2019_track4_trainval/Train-Track4/OMA_357_PC3.txt', '/data/Public Data/IEEE Data Fusion Contest 2019/DFC2019_track4_trainval/Train-Track4/OMA_364_PC3.txt', '/data/Public Data/IEEE Data Fusion Contest 2019/DFC2019_track4_trainval/Train-Track4/OMA_367_PC3.txt', '/data/Public Data/IEEE Data Fusion Contest 2019/DFC2019_track4_trainval/Train-Track4/OMA_374_PC3.txt', '/data/Public Data/IEEE Data Fusion Contest 2019/DFC2019_track4_trainval/Train-Track4/OMA_376_PC3.txt', '/data/Public Data/IEEE Data Fusion Contest 2019/DFC2019_track4_trainval/Train-Track4/OMA_381_PC3.txt', '/data/Public Data/IEEE Data Fusion Contest 2019/DFC2019_track4_trainval/Train-Track4/OMA_382_PC3.txt', '/data/Public Data/IEEE Data Fusion Contest 2019/DFC2019_track4_trainval/Train-Track4/OMA_383_PC3.txt', '/data/Public Data/IEEE Data Fusion Contest 2019/DFC2019_track4_trainval/Train-Track4/OMA_389_PC3.txt', '/data/Public Data/IEEE Data Fusion Contest 2019/DFC2019_track4_trainval/Train-Track4/OMA_391_PC3.txt']\n"
     ]
    }
   ],
   "source": [
    "print(files)"
   ]
  },
  {
   "cell_type": "code",
   "execution_count": 29,
   "metadata": {
    "collapsed": false
   },
   "outputs": [
    {
     "data": {
      "text/plain": [
       "array(['/data/Public Data/IEEE Data Fusion Contest 2019/DFC2019_track4_trainval/Train-Track4/JAX_004_PC3.txt',\n",
       "       '/data/Public Data/IEEE Data Fusion Contest 2019/DFC2019_track4_trainval/Train-Track4/JAX_017_PC3.txt',\n",
       "       '/data/Public Data/IEEE Data Fusion Contest 2019/DFC2019_track4_trainval/Train-Track4/JAX_022_PC3.txt',\n",
       "       '/data/Public Data/IEEE Data Fusion Contest 2019/DFC2019_track4_trainval/Train-Track4/JAX_031_PC3.txt',\n",
       "       '/data/Public Data/IEEE Data Fusion Contest 2019/DFC2019_track4_trainval/Train-Track4/JAX_113_PC3.txt',\n",
       "       '/data/Public Data/IEEE Data Fusion Contest 2019/DFC2019_track4_trainval/Train-Track4/JAX_149_PC3.txt',\n",
       "       '/data/Public Data/IEEE Data Fusion Contest 2019/DFC2019_track4_trainval/Train-Track4/JAX_156_PC3.txt',\n",
       "       '/data/Public Data/IEEE Data Fusion Contest 2019/DFC2019_track4_trainval/Train-Track4/JAX_236_PC3.txt',\n",
       "       '/data/Public Data/IEEE Data Fusion Contest 2019/DFC2019_track4_trainval/Train-Track4/JAX_251_PC3.txt',\n",
       "       '/data/Public Data/IEEE Data Fusion Contest 2019/DFC2019_track4_trainval/Train-Track4/JAX_260_PC3.txt',\n",
       "       '/data/Public Data/IEEE Data Fusion Contest 2019/DFC2019_track4_trainval/Train-Track4/JAX_276_PC3.txt',\n",
       "       '/data/Public Data/IEEE Data Fusion Contest 2019/DFC2019_track4_trainval/Train-Track4/JAX_280_PC3.txt',\n",
       "       '/data/Public Data/IEEE Data Fusion Contest 2019/DFC2019_track4_trainval/Train-Track4/OMA_059_PC3.txt',\n",
       "       '/data/Public Data/IEEE Data Fusion Contest 2019/DFC2019_track4_trainval/Train-Track4/OMA_108_PC3.txt',\n",
       "       '/data/Public Data/IEEE Data Fusion Contest 2019/DFC2019_track4_trainval/Train-Track4/OMA_132_PC3.txt',\n",
       "       '/data/Public Data/IEEE Data Fusion Contest 2019/DFC2019_track4_trainval/Train-Track4/OMA_144_PC3.txt',\n",
       "       '/data/Public Data/IEEE Data Fusion Contest 2019/DFC2019_track4_trainval/Train-Track4/OMA_181_PC3.txt',\n",
       "       '/data/Public Data/IEEE Data Fusion Contest 2019/DFC2019_track4_trainval/Train-Track4/OMA_251_PC3.txt',\n",
       "       '/data/Public Data/IEEE Data Fusion Contest 2019/DFC2019_track4_trainval/Train-Track4/OMA_258_PC3.txt',\n",
       "       '/data/Public Data/IEEE Data Fusion Contest 2019/DFC2019_track4_trainval/Train-Track4/OMA_269_PC3.txt',\n",
       "       '/data/Public Data/IEEE Data Fusion Contest 2019/DFC2019_track4_trainval/Train-Track4/OMA_315_PC3.txt',\n",
       "       '/data/Public Data/IEEE Data Fusion Contest 2019/DFC2019_track4_trainval/Train-Track4/OMA_331_PC3.txt'],\n",
       "      dtype='<U100')"
      ]
     },
     "execution_count": 29,
     "metadata": {},
     "output_type": "execute_result"
    }
   ],
   "source": [
    "np.array(files)[fold_idx[0][1]]"
   ]
  }
 ],
 "metadata": {
  "kernelspec": {
   "display_name": "Python (py4torch_tf)",
   "language": "python",
   "name": "pytorch"
  },
  "language_info": {
   "codemirror_mode": {
    "name": "ipython",
    "version": 3
   },
   "file_extension": ".py",
   "mimetype": "text/x-python",
   "name": "python",
   "nbconvert_exporter": "python",
   "pygments_lexer": "ipython3",
   "version": "3.5.6"
  },
  "toc": {
   "base_numbering": 1,
   "nav_menu": {},
   "number_sections": true,
   "sideBar": true,
   "skip_h1_title": false,
   "title_cell": "Table of Contents",
   "title_sidebar": "Contents",
   "toc_cell": false,
   "toc_position": {},
   "toc_section_display": true,
   "toc_window_display": false
  }
 },
 "nbformat": 4,
 "nbformat_minor": 2
}
