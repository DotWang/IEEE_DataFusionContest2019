{
 "cells": [
  {
   "cell_type": "code",
   "execution_count": 9,
   "metadata": {
    "collapsed": true
   },
   "outputs": [],
   "source": [
    "import numpy as np\n",
    "import pandas as pd\n",
    "import os\n",
    "import glob"
   ]
  },
  {
   "cell_type": "code",
   "execution_count": 10,
   "metadata": {
    "collapsed": false
   },
   "outputs": [],
   "source": [
    "def get_list_of_files():\n",
    "    \n",
    "    files = glob.glob(os.path.join('/data/Public Data/IEEE Data Fusion Contest 2019/DFC2019_track4_trainval/Validate-Track4/',\"*_PC3.txt\"))\n",
    "    return sorted(files)\n",
    "\n",
    "files=get_list_of_files()"
   ]
  },
  {
   "cell_type": "code",
   "execution_count": 11,
   "metadata": {
    "collapsed": false
   },
   "outputs": [
    {
     "data": {
      "text/plain": [
       "10"
      ]
     },
     "execution_count": 11,
     "metadata": {},
     "output_type": "execute_result"
    }
   ],
   "source": [
    "len(files)"
   ]
  },
  {
   "cell_type": "code",
   "execution_count": 12,
   "metadata": {
    "collapsed": false
   },
   "outputs": [
    {
     "data": {
      "text/plain": [
       "'JAX_114_PC3.txt'"
      ]
     },
     "execution_count": 12,
     "metadata": {},
     "output_type": "execute_result"
    }
   ],
   "source": [
    "os.path.basename(files[0])"
   ]
  },
  {
   "cell_type": "markdown",
   "metadata": {},
   "source": [
    "***Data-Expand, Label Guided Based the Result of Baseline***"
   ]
  },
  {
   "cell_type": "code",
   "execution_count": 13,
   "metadata": {
    "collapsed": false
   },
   "outputs": [
    {
     "name": "stdout",
     "output_type": "stream",
     "text": [
      "(378374, 5) (378374, 1)\n",
      "finishd numbers:0 (959226, 5) (959226, 1)\n",
      "(916175, 5) (916175, 1)\n",
      "finishd numbers:1 (4376392, 5) (4376392, 1)\n",
      "(1059437, 5) (1059437, 1)\n",
      "finishd numbers:2 (1773504, 5) (1773504, 1)\n",
      "(708444, 5) (708444, 1)\n",
      "finishd numbers:3 (2149082, 5) (2149082, 1)\n",
      "(422048, 5) (422048, 1)\n",
      "finishd numbers:4 (7958425, 5) (7958425, 1)\n",
      "(577210, 5) (577210, 1)\n",
      "finishd numbers:5 (954123, 5) (954123, 1)\n",
      "(687575, 5) (687575, 1)\n",
      "finishd numbers:6 (2135778, 5) (2135778, 1)\n",
      "(1851316, 5) (1851316, 1)\n",
      "finishd numbers:7 (10239013, 5) (10239013, 1)\n",
      "(1660149, 5) (1660149, 1)\n",
      "finishd numbers:8 (7763831, 5) (7763831, 1)\n",
      "(2038196, 5) (2038196, 1)\n",
      "finishd numbers:9 (3564249, 5) (3564249, 1)\n"
     ]
    }
   ],
   "source": [
    "for i in range(len(files)):\n",
    "    origintxtdata=np.array(pd.read_csv(files[i],sep=',',header=None))\n",
    "    labelfile='/data/DW/DataFusion/dfc2019-master/track4/log_data_folder/intensity/baseline_first/val_result/'+os.path.basename(files[i])[:8]+'CLS.txt'\n",
    "    origintxtlabel=np.array(pd.read_csv(labelfile,header=None))\n",
    "    print(origintxtdata.shape,origintxtlabel.shape)\n",
    "    \n",
    "    tree=origintxtdata[origintxtlabel[:,0]==5,:]\n",
    "    treelabel=origintxtlabel[origintxtlabel[:,0]==5,:]\n",
    "    tree_new=np.tile(tree,[1,1])+np.around(np.random.uniform(-0.3,0.3,(tree.shape[0],5)),decimals=8)\n",
    "    treelabel_new=np.tile(treelabel,[1,1])\n",
    "    \n",
    "    building=origintxtdata[origintxtlabel[:,0]==6,:]\n",
    "    buildinglabel=origintxtlabel[origintxtlabel[:,0]==6,:]\n",
    "    building_new=np.tile(building,[2,1])+np.around(np.random.uniform(-0.3,0.3,(2*building.shape[0],5)),decimals=8) \n",
    "    buildinglabel_new=np.tile(buildinglabel,[2,1])\n",
    "    \n",
    "    water=origintxtdata[origintxtlabel[:,0]==9,:]\n",
    "    waterlabel=origintxtlabel[origintxtlabel[:,0]==9,:]\n",
    "    water_new=np.tile(water,[50,1])+np.around(np.random.uniform(-0.3,0.3,(50*water.shape[0],5)),decimals=8)\n",
    "    waterlabel_new=np.tile(waterlabel,[50,1])\n",
    "    \n",
    "    road=origintxtdata[origintxtlabel[:,0]==17,:]\n",
    "    roadlabel=origintxtlabel[origintxtlabel[:,0]==17,:]\n",
    "    road_new=np.tile(road,[100,1])+np.around(np.random.uniform(-0.3,0.3,(100*road.shape[0],5)),decimals=8)\n",
    "    roadlabel_new=np.tile(roadlabel,[100,1])\n",
    "    \n",
    "#     print(tree_new.shape,treelabel_new.shape)\n",
    "#     print(building_new.shape,buildinglabel_new.shape)\n",
    "#     print(water_new.shape,waterlabel_new.shape)\n",
    "#     print(road_new.shape,roadlabel_new.shape)\n",
    "    \n",
    "    newdata=np.concatenate([origintxtdata,tree_new,building_new,water_new,road_new],axis=0)\n",
    "    newlabel=np.concatenate([origintxtlabel,treelabel_new,buildinglabel_new,waterlabel_new,roadlabel_new],axis=0)\n",
    "    \n",
    "    print('finishd numbers:{}'.format(i),newdata.shape,newlabel.shape)\n",
    "    \n",
    "    ###Output\n",
    "    path,datafilename=os.path.split(files[i])\n",
    "    outputdatapath='/data/DW/DataFusion/dfc2019-master/track4/trn_data_folder/validata_postprocesstxt/'+datafilename\n",
    "    \n",
    "    dt_data=pd.DataFrame(newdata)\n",
    "    dt_data.to_csv(outputdatapath,sep=',',header=None,index=False)\n",
    "    \n",
    "    path,labelfilename=os.path.split(labelfile)\n",
    "    outputlabelpath='/data/DW/DataFusion/dfc2019-master/track4/trn_data_folder/validata_postprocesstxt/'+labelfilename\n",
    "    \n",
    "    dt_label=pd.DataFrame(newlabel)\n",
    "    dt_label.to_csv(outputlabelpath,sep=',',header=None,index=False)"
   ]
  },
  {
   "cell_type": "markdown",
   "metadata": {},
   "source": [
    "***Puring when val/tes***"
   ]
  },
  {
   "cell_type": "code",
   "execution_count": 14,
   "metadata": {
    "collapsed": false
   },
   "outputs": [
    {
     "name": "stdout",
     "output_type": "stream",
     "text": [
      "(959226, 1)\n",
      "finishd numbers:0 (959226, 1) (378374,)\n",
      "(4376392, 1)\n",
      "finishd numbers:1 (4376392, 1) (916175,)\n",
      "(1773504, 1)\n",
      "finishd numbers:2 (1773504, 1) (1059437,)\n",
      "(2149082, 1)\n",
      "finishd numbers:3 (2149082, 1) (708444,)\n",
      "(7958425, 1)\n",
      "finishd numbers:4 (7958425, 1) (422048,)\n",
      "(954123, 1)\n",
      "finishd numbers:5 (954123, 1) (577210,)\n",
      "(2135778, 1)\n",
      "finishd numbers:6 (2135778, 1) (687575,)\n",
      "(10239013, 1)\n",
      "finishd numbers:7 (10239013, 1) (1851316,)\n",
      "(7763831, 1)\n",
      "finishd numbers:8 (7763831, 1) (1660149,)\n",
      "(3564249, 1)\n",
      "finishd numbers:9 (3564249, 1) (2038196,)\n"
     ]
    }
   ],
   "source": [
    "for i in range(len(files)):\n",
    "    origintxtdata=np.array(pd.read_csv(files[i],sep=',',header=None))\n",
    "    \n",
    "    pre_labelfile='/data/DW/DataFusion/dfc2019-master/track4/log_data_folder/data_expand/chagesample_only/baseline_first_data*2/val_result/preprocess/'+os.path.basename(files[i])[:8]+'CLS.txt'\n",
    "    pre_txtlabel=np.array(pd.read_csv(pre_labelfile,header=None))\n",
    "    print(pre_txtlabel.shape)\n",
    "    \n",
    "    pro_label=pre_txtlabel[:origintxtdata.shape[0],0]\n",
    "\n",
    "    print('finishd numbers:{}'.format(i),pre_txtlabel.shape,pro_label.shape)\n",
    "    \n",
    "    ###Output\n",
    "    \n",
    "    path,labelfilename=os.path.split(pre_labelfile)\n",
    "    outputlabelpath='/data/DW/DataFusion/dfc2019-master/track4/log_data_folder/data_expand/chagesample_only/baseline_first_data*2/val_result/'+labelfilename\n",
    "    \n",
    "    dt_label=pd.DataFrame(pro_label)\n",
    "    dt_label.to_csv(outputlabelpath,sep=',',header=None,index=False)"
   ]
  }
 ],
 "metadata": {
  "kernelspec": {
   "display_name": "Python (py4torch_tf)",
   "language": "python",
   "name": "pytorch"
  },
  "language_info": {
   "codemirror_mode": {
    "name": "ipython",
    "version": 3
   },
   "file_extension": ".py",
   "mimetype": "text/x-python",
   "name": "python",
   "nbconvert_exporter": "python",
   "pygments_lexer": "ipython3",
   "version": "3.5.6"
  },
  "toc": {
   "base_numbering": 1,
   "nav_menu": {},
   "number_sections": true,
   "sideBar": true,
   "skip_h1_title": false,
   "title_cell": "Table of Contents",
   "title_sidebar": "Contents",
   "toc_cell": false,
   "toc_position": {},
   "toc_section_display": true,
   "toc_window_display": false
  }
 },
 "nbformat": 4,
 "nbformat_minor": 2
}
